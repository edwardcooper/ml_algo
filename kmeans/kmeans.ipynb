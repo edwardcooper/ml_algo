{
 "cells": [
  {
   "cell_type": "markdown",
   "metadata": {},
   "source": [
    "# Implement kmeans algorithms"
   ]
  },
  {
   "cell_type": "markdown",
   "metadata": {},
   "source": [
    "## This naive implementation assumes that input datasets are pandas dataframes."
   ]
  },
  {
   "cell_type": "markdown",
   "metadata": {},
   "source": [
    "## kmeans_distance function"
   ]
  },
  {
   "cell_type": "markdown",
   "metadata": {},
   "source": [
    "The first equation implements the function to calculate the distance between the data and the centroid. This function calculates the L2 distance metric between each data points and the centroid. It returns a pandas dataframe with each row being the cluster number, and each column being the distance of each data point to the centroid.\n",
    "\n",
    "\n",
    "The inputs are \n",
    "1. data is the input pandas dataframe.\n",
    "2. centroid is the current centroid position.\n",
    "3. n_cluster is the number of clusters."
   ]
  },
  {
   "cell_type": "code",
   "execution_count": 1,
   "metadata": {},
   "outputs": [],
   "source": [
    "import pandas as pd\n",
    "import numpy as np"
   ]
  },
  {
   "cell_type": "code",
   "execution_count": 2,
   "metadata": {},
   "outputs": [],
   "source": [
    "# assume centroid and data are pandas dataframe \n",
    "# data is the input data\n",
    "# centroid is the current centroid position.\n",
    "# n_cluster is the number of clusters.\n",
    "\n",
    "def kmeans_distance(data,centroid,n_cluster):\n",
    "    # initialize the data frame to be all zeros to hold the distance value.\n",
    "    # each row is the cluster number, each column is the distance of each data point to the centroid.\n",
    "    distance_df = pd.DataFrame(index=range(n_cluster),columns= data.index)\n",
    "    distance_df = distance_df.fillna(0)\n",
    "    \n",
    "    # assign the value of L2 norm distance to the centroid to each row of the distance_df\n",
    "    for i in range(centroid.shape[0]):\n",
    "        distance_df.iloc[i] = np.square(data-centroid.iloc[i]).sum(axis=1)\n",
    "        \n",
    "    # return the distance dataframe \n",
    "    return distance_df  "
   ]
  },
  {
   "cell_type": "markdown",
   "metadata": {},
   "source": [
    "## kmeans_iter function"
   ]
  },
  {
   "cell_type": "markdown",
   "metadata": {},
   "source": [
    "This function implements one interation of the kmeans clustering, which updates the current centroid poistion. It will first calculate the distance of all data to the current centroids, and assign new cluster numbers based on the L2 distance. Then, it will calculate the new cluster center using the the means.  \n",
    "\n",
    "The inputs are \n",
    "1. data is the input pandas dataframe\n",
    "2. centroid is the current centroid position.\n",
    "3. n_cluster is the number of clusters."
   ]
  },
  {
   "cell_type": "code",
   "execution_count": 3,
   "metadata": {},
   "outputs": [],
   "source": [
    "\n",
    "def kmeans_iter(data,centroid,n_cluster):\n",
    "    # calculate the distance matrix \n",
    "    distance_dataframe = kmeans_distance(data,centroid,n_cluster)\n",
    "    \n",
    "    # calculate the current new cluster assignments.\n",
    "    new_cluster_assignment = [0]*data.shape[0]\n",
    "    for index in range(len(new_cluster_assignment)):\n",
    "        \n",
    "        new_cluster_assignment[index] = distance_dataframe.iloc[:,index].idxmin()\n",
    "    # finished with cluster assignment, the cluster labels are now in a list.\n",
    "    \n",
    "    # initialize the dataframe to store new centroid positions.\n",
    "    new_centroid = pd.DataFrame(index= range(n_cluster),columns = data.columns)\n",
    "    # initialize a list to store the within cluster variance to measure if the cluster converges. \n",
    "    new_centroid_variance = [0]*n_cluster\n",
    "    \n",
    "    # iterate through all possible cluster number, and calculates the new centroid positions using the mean.  \n",
    "    for cluster_value in range(n_cluster):\n",
    "        # get the index for new cluster assignment.\n",
    "        cluster_data_index = [new_cluster_value_index for new_cluster_value_index,new_cluster_value in enumerate(new_cluster_assignment) if new_cluster_value == cluster_value]\n",
    "        # get the data belonging to cluster \"cluster_value\"\n",
    "        cluster_data = data.iloc[cluster_data_index]\n",
    "        # calculate the centroid position using the mean for each feature.\n",
    "        new_centroid_position = cluster_data.mean(axis=0)\n",
    "        # calculate the within-cluster variance. \n",
    "        new_centroid_variance[cluster_value] = cluster_data.var(axis = 0).sum(axis = 0)\n",
    "        # assign this value to the value for the new_centroid positions.\n",
    "        new_centroid.iloc[cluster_value] = new_centroid_position\n",
    "        \n",
    "    total_clusters_variance = sum(new_centroid_variance)\n",
    "\n",
    "    return total_clusters_variance, new_centroid"
   ]
  },
  {
   "cell_type": "markdown",
   "metadata": {},
   "source": [
    "## kmeans function"
   ]
  },
  {
   "cell_type": "markdown",
   "metadata": {},
   "source": [
    "This function implements one entire kmeans clustering iterations. It will initialize the positions with random integers in the range of the maximum and minimum value of the entire data. Then, it will update the positions of the centroid until the tolerance is met or maximum number of interations is reached. "
   ]
  },
  {
   "cell_type": "code",
   "execution_count": 33,
   "metadata": {},
   "outputs": [],
   "source": [
    "from tqdm import tqdm\n",
    "def kmeans(data,n_cluster,max_iter=100, tol = 10**(-5)):\n",
    "    # initialize the position with some random value.\n",
    "    new_positions = pd.DataFrame(np.random.randint(data.min().min(),data.max().max(),size=(n_cluster, data.shape[1])),index= range(n_cluster),columns = data.columns)\n",
    "    \n",
    "    for i in tqdm(range(max_iter)):\n",
    "        # create a new copy of the centroid positions\n",
    "        old_centroids_positions = new_positions.copy()\n",
    "        # do one iteration of the kmeans algorithm and return the variance of the centroids and new centroid positions.\n",
    "        new_centroids_variances, new_positions = kmeans_iter(data,old_centroids_positions,n_cluster)\n",
    "        \n",
    "        \n",
    "        # test to see if the new position contains any NA values.\n",
    "        # if it contains NA values then you need to re-initialize the centroid positions. \n",
    "        if new_positions.isnull().sum().sum() !=0:\n",
    "            new_positions = pd.DataFrame(np.random.randint(data.min().min(),data.max().max(),size=(n_cluster, data.shape[1])),index= range(n_cluster),columns = data.columns)\n",
    "            \n",
    "        \n",
    "        # calculate the squared differences in the cnetroid position change after one iterations.\n",
    "        positions_sq_diff = np.square(old_centroids_positions-new_positions).sum(axis=0).sum()\n",
    "        \n",
    "        # if the change in the squared difference is smaller than the tol value then the iteration is stopped.\n",
    "        if positions_sq_diff < tol: \n",
    "            break\n",
    "            \n",
    "      \n",
    "    return new_positions"
   ]
  },
  {
   "cell_type": "markdown",
   "metadata": {},
   "source": [
    "## Compare my algorithm with the KMeans implementation in sklearn with two test cases."
   ]
  },
  {
   "cell_type": "code",
   "execution_count": 34,
   "metadata": {},
   "outputs": [],
   "source": [
    "test_data2 = pd.DataFrame([[-1,1],[1,-1],[1.01,-1.01]\n",
    "                           ,[-1.01,1.01],[1.02,-1.02]\n",
    "                           ,[-1.02,1.02],[1.03,-1.03]\n",
    "                           ,[-1.03,1.03]], columns = [\"f1\",'f2'])\n",
    "\n",
    "\n",
    "test_data3 = pd.DataFrame([[-1,1,-1],[1,-1,1]\n",
    "                           ,[1.01,-1.01,1.01]\n",
    "                           ,[-1.01,1.01,-1.01]\n",
    "                           ,[1.02,-1.02,1.02]\n",
    "                           ,[-1.02,1.02,-1.02]\n",
    "                           ,[1.2,-1.2,1.2]\n",
    "                           ,[-1.2,1.2,-1.2]], columns = [\"f1\",'f2','f3'])"
   ]
  },
  {
   "cell_type": "code",
   "execution_count": 35,
   "metadata": {},
   "outputs": [
    {
     "name": "stderr",
     "output_type": "stream",
     "text": [
      "  0%|          | 0/100 [00:00<?, ?it/s]\n"
     ]
    },
    {
     "data": {
      "text/html": [
       "<div>\n",
       "<style scoped>\n",
       "    .dataframe tbody tr th:only-of-type {\n",
       "        vertical-align: middle;\n",
       "    }\n",
       "\n",
       "    .dataframe tbody tr th {\n",
       "        vertical-align: top;\n",
       "    }\n",
       "\n",
       "    .dataframe thead th {\n",
       "        text-align: right;\n",
       "    }\n",
       "</style>\n",
       "<table border=\"1\" class=\"dataframe\">\n",
       "  <thead>\n",
       "    <tr style=\"text-align: right;\">\n",
       "      <th></th>\n",
       "      <th>f1</th>\n",
       "      <th>f2</th>\n",
       "    </tr>\n",
       "  </thead>\n",
       "  <tbody>\n",
       "    <tr>\n",
       "      <th>0</th>\n",
       "      <td>-1.015</td>\n",
       "      <td>1.015</td>\n",
       "    </tr>\n",
       "    <tr>\n",
       "      <th>1</th>\n",
       "      <td>1.015</td>\n",
       "      <td>-1.015</td>\n",
       "    </tr>\n",
       "  </tbody>\n",
       "</table>\n",
       "</div>"
      ],
      "text/plain": [
       "      f1     f2\n",
       "0 -1.015  1.015\n",
       "1  1.015 -1.015"
      ]
     },
     "execution_count": 35,
     "metadata": {},
     "output_type": "execute_result"
    }
   ],
   "source": [
    "kmeans(test_data2,2)"
   ]
  },
  {
   "cell_type": "code",
   "execution_count": 36,
   "metadata": {},
   "outputs": [
    {
     "name": "stderr",
     "output_type": "stream",
     "text": [
      "  0%|          | 0/100 [00:00<?, ?it/s]\n"
     ]
    },
    {
     "data": {
      "text/html": [
       "<div>\n",
       "<style scoped>\n",
       "    .dataframe tbody tr th:only-of-type {\n",
       "        vertical-align: middle;\n",
       "    }\n",
       "\n",
       "    .dataframe tbody tr th {\n",
       "        vertical-align: top;\n",
       "    }\n",
       "\n",
       "    .dataframe thead th {\n",
       "        text-align: right;\n",
       "    }\n",
       "</style>\n",
       "<table border=\"1\" class=\"dataframe\">\n",
       "  <thead>\n",
       "    <tr style=\"text-align: right;\">\n",
       "      <th></th>\n",
       "      <th>f1</th>\n",
       "      <th>f2</th>\n",
       "      <th>f3</th>\n",
       "    </tr>\n",
       "  </thead>\n",
       "  <tbody>\n",
       "    <tr>\n",
       "      <th>0</th>\n",
       "      <td>1.0575</td>\n",
       "      <td>-1.0575</td>\n",
       "      <td>1.0575</td>\n",
       "    </tr>\n",
       "    <tr>\n",
       "      <th>1</th>\n",
       "      <td>-1.0575</td>\n",
       "      <td>1.0575</td>\n",
       "      <td>-1.0575</td>\n",
       "    </tr>\n",
       "  </tbody>\n",
       "</table>\n",
       "</div>"
      ],
      "text/plain": [
       "       f1      f2      f3\n",
       "0  1.0575 -1.0575  1.0575\n",
       "1 -1.0575  1.0575 -1.0575"
      ]
     },
     "execution_count": 36,
     "metadata": {},
     "output_type": "execute_result"
    }
   ],
   "source": [
    "kmeans(test_data3,2)"
   ]
  },
  {
   "cell_type": "markdown",
   "metadata": {},
   "source": [
    "The result from the Kmeans implementation in sklearn."
   ]
  },
  {
   "cell_type": "code",
   "execution_count": 8,
   "metadata": {},
   "outputs": [
    {
     "data": {
      "text/plain": [
       "array([[ 1.015, -1.015],\n",
       "       [-1.015,  1.015]])"
      ]
     },
     "execution_count": 8,
     "metadata": {},
     "output_type": "execute_result"
    }
   ],
   "source": [
    "from sklearn.cluster import KMeans\n",
    "\n",
    "KMeans(n_clusters=2, random_state=0).fit(test_data2).cluster_centers_"
   ]
  },
  {
   "cell_type": "code",
   "execution_count": 9,
   "metadata": {},
   "outputs": [
    {
     "data": {
      "text/plain": [
       "array([[ 1.0575, -1.0575,  1.0575],\n",
       "       [-1.0575,  1.0575, -1.0575]])"
      ]
     },
     "execution_count": 9,
     "metadata": {},
     "output_type": "execute_result"
    }
   ],
   "source": [
    "KMeans(n_clusters=2, random_state=0).fit(test_data3).cluster_centers_"
   ]
  },
  {
   "cell_type": "markdown",
   "metadata": {},
   "source": [
    "# Apply the Kmeans algorithm implemented in image compression."
   ]
  },
  {
   "cell_type": "markdown",
   "metadata": {},
   "source": [
    "Import the image data into pandas dataframe"
   ]
  },
  {
   "cell_type": "code",
   "execution_count": 60,
   "metadata": {},
   "outputs": [],
   "source": [
    "from PIL import Image\n",
    "im = Image.open('./watchtower/peppers.tiff')"
   ]
  },
  {
   "cell_type": "markdown",
   "metadata": {},
   "source": [
    "Let us look at the original data."
   ]
  },
  {
   "cell_type": "code",
   "execution_count": 67,
   "metadata": {},
   "outputs": [
    {
     "data": {
      "image/png": "[encoded data removed]",
      "text/plain": [
       "<PIL.TiffImagePlugin.TiffImageFile image mode=RGB size=128x128 at 0x1CDE3C4F860>"
      ]
     },
     "execution_count": 67,
     "metadata": {},
     "output_type": "execute_result"
    }
   ],
   "source": [
    "im"
   ]
  },
  {
   "cell_type": "markdown",
   "metadata": {},
   "source": [
    "Convert the data into numpy array."
   ]
  },
  {
   "cell_type": "code",
   "execution_count": 61,
   "metadata": {},
   "outputs": [],
   "source": [
    "image = np.array(im)"
   ]
  },
  {
   "cell_type": "markdown",
   "metadata": {},
   "source": [
    "Reshape the data for furthur processing. "
   ]
  },
  {
   "cell_type": "code",
   "execution_count": 62,
   "metadata": {},
   "outputs": [],
   "source": [
    "image_reshaped = image.reshape(image.shape[0]*image.shape[1],3)"
   ]
  },
  {
   "cell_type": "markdown",
   "metadata": {},
   "source": [
    "Convert the numpy array to pandas dataframe"
   ]
  },
  {
   "cell_type": "code",
   "execution_count": 40,
   "metadata": {},
   "outputs": [],
   "source": [
    "image_reshaped = pd.DataFrame(image_reshaped)"
   ]
  },
  {
   "cell_type": "markdown",
   "metadata": {},
   "source": [
    "Apply our own Kmeans implementation with a cluster size of 16. "
   ]
  },
  {
   "cell_type": "code",
   "execution_count": 41,
   "metadata": {},
   "outputs": [
    {
     "name": "stderr",
     "output_type": "stream",
     "text": [
      "100%|██████████| 100/100 [05:48<00:00,  3.51s/it]\n"
     ]
    }
   ],
   "source": [
    "centroids = kmeans(image_reshaped,16)"
   ]
  },
  {
   "cell_type": "markdown",
   "metadata": {},
   "source": [
    "This is the result for centroids of the clusters. "
   ]
  },
  {
   "cell_type": "code",
   "execution_count": 42,
   "metadata": {},
   "outputs": [
    {
     "data": {
      "text/html": [
       "<div>\n",
       "<style scoped>\n",
       "    .dataframe tbody tr th:only-of-type {\n",
       "        vertical-align: middle;\n",
       "    }\n",
       "\n",
       "    .dataframe tbody tr th {\n",
       "        vertical-align: top;\n",
       "    }\n",
       "\n",
       "    .dataframe thead th {\n",
       "        text-align: right;\n",
       "    }\n",
       "</style>\n",
       "<table border=\"1\" class=\"dataframe\">\n",
       "  <thead>\n",
       "    <tr style=\"text-align: right;\">\n",
       "      <th></th>\n",
       "      <th>0</th>\n",
       "      <th>1</th>\n",
       "      <th>2</th>\n",
       "    </tr>\n",
       "  </thead>\n",
       "  <tbody>\n",
       "    <tr>\n",
       "      <th>0</th>\n",
       "      <td>52</td>\n",
       "      <td>209</td>\n",
       "      <td>137</td>\n",
       "    </tr>\n",
       "    <tr>\n",
       "      <th>1</th>\n",
       "      <td>99</td>\n",
       "      <td>107</td>\n",
       "      <td>83</td>\n",
       "    </tr>\n",
       "    <tr>\n",
       "      <th>2</th>\n",
       "      <td>173</td>\n",
       "      <td>180</td>\n",
       "      <td>226</td>\n",
       "    </tr>\n",
       "    <tr>\n",
       "      <th>3</th>\n",
       "      <td>229</td>\n",
       "      <td>151</td>\n",
       "      <td>173</td>\n",
       "    </tr>\n",
       "    <tr>\n",
       "      <th>4</th>\n",
       "      <td>124</td>\n",
       "      <td>1</td>\n",
       "      <td>169</td>\n",
       "    </tr>\n",
       "    <tr>\n",
       "      <th>5</th>\n",
       "      <td>184</td>\n",
       "      <td>86</td>\n",
       "      <td>155</td>\n",
       "    </tr>\n",
       "    <tr>\n",
       "      <th>6</th>\n",
       "      <td>226</td>\n",
       "      <td>195</td>\n",
       "      <td>108</td>\n",
       "    </tr>\n",
       "    <tr>\n",
       "      <th>7</th>\n",
       "      <td>158</td>\n",
       "      <td>186</td>\n",
       "      <td>11</td>\n",
       "    </tr>\n",
       "    <tr>\n",
       "      <th>8</th>\n",
       "      <td>124</td>\n",
       "      <td>146</td>\n",
       "      <td>48</td>\n",
       "    </tr>\n",
       "    <tr>\n",
       "      <th>9</th>\n",
       "      <td>116</td>\n",
       "      <td>53</td>\n",
       "      <td>97</td>\n",
       "    </tr>\n",
       "    <tr>\n",
       "      <th>10</th>\n",
       "      <td>155</td>\n",
       "      <td>5</td>\n",
       "      <td>174</td>\n",
       "    </tr>\n",
       "    <tr>\n",
       "      <th>11</th>\n",
       "      <td>215</td>\n",
       "      <td>227</td>\n",
       "      <td>229</td>\n",
       "    </tr>\n",
       "    <tr>\n",
       "      <th>12</th>\n",
       "      <td>55</td>\n",
       "      <td>11</td>\n",
       "      <td>228</td>\n",
       "    </tr>\n",
       "    <tr>\n",
       "      <th>13</th>\n",
       "      <td>28</td>\n",
       "      <td>221</td>\n",
       "      <td>177</td>\n",
       "    </tr>\n",
       "    <tr>\n",
       "      <th>14</th>\n",
       "      <td>25</td>\n",
       "      <td>111</td>\n",
       "      <td>88</td>\n",
       "    </tr>\n",
       "    <tr>\n",
       "      <th>15</th>\n",
       "      <td>203</td>\n",
       "      <td>94</td>\n",
       "      <td>79</td>\n",
       "    </tr>\n",
       "  </tbody>\n",
       "</table>\n",
       "</div>"
      ],
      "text/plain": [
       "      0    1    2\n",
       "0    52  209  137\n",
       "1    99  107   83\n",
       "2   173  180  226\n",
       "3   229  151  173\n",
       "4   124    1  169\n",
       "5   184   86  155\n",
       "6   226  195  108\n",
       "7   158  186   11\n",
       "8   124  146   48\n",
       "9   116   53   97\n",
       "10  155    5  174\n",
       "11  215  227  229\n",
       "12   55   11  228\n",
       "13   28  221  177\n",
       "14   25  111   88\n",
       "15  203   94   79"
      ]
     },
     "execution_count": 42,
     "metadata": {},
     "output_type": "execute_result"
    }
   ],
   "source": [
    "centroids"
   ]
  },
  {
   "cell_type": "markdown",
   "metadata": {},
   "source": [
    "Define a function to assign data to centroids and return the dataframe for the compressed image."
   ]
  },
  {
   "cell_type": "markdown",
   "metadata": {},
   "source": [
    "The first function generates the cluster labels based on the centroids positions. "
   ]
  },
  {
   "cell_type": "code",
   "execution_count": 50,
   "metadata": {},
   "outputs": [],
   "source": [
    "def new_cluster_labels(data,centroids,n_cluster):\n",
    "    # calculate the distance matrix \n",
    "    distance_dataframe = kmeans_distance(data,centroids,n_cluster)\n",
    "    \n",
    "    # calculate the current new cluster assignments.\n",
    "    new_cluster_assignment = [0]*data.shape[0]\n",
    "    for index in range(len(new_cluster_assignment)):\n",
    "        \n",
    "        new_cluster_assignment[index] = distance_dataframe.iloc[:,index].idxmin()\n",
    "    \n",
    "    return new_cluster_assignment"
   ]
  },
  {
   "cell_type": "markdown",
   "metadata": {},
   "source": [
    "The second function uses the first function that generates the cluster labels to generate the pandas dataframe for the compressed image by replacing the original coloring with the color for the centroids. "
   ]
  },
  {
   "cell_type": "code",
   "execution_count": 53,
   "metadata": {},
   "outputs": [],
   "source": [
    "def compressed_img_data(data,centroids,n_cluster):\n",
    "    # generate the cluster labels from the distance metric.\n",
    "    cluster_labels = new_cluster_labels(data,centroids,n_cluster)\n",
    "    \n",
    "    # initialize new dataframe for storing the compressed data\n",
    "    new_compressed_img_data = pd.DataFrame(index= range(data.shape[0]),columns = data.columns)\n",
    "    for index, cluster_label in enumerate(cluster_labels):\n",
    "        new_compressed_img_data.iloc[index] = centroids.iloc[cluster_label]\n",
    "    \n",
    "    return new_compressed_img_data"
   ]
  },
  {
   "cell_type": "markdown",
   "metadata": {},
   "source": [
    "Generate the pandas dataframe that contains the color for the compressed image, "
   ]
  },
  {
   "cell_type": "code",
   "execution_count": 55,
   "metadata": {},
   "outputs": [],
   "source": [
    "compressed_img = compressed_img_data(image, centroids,16)"
   ]
  },
  {
   "cell_type": "markdown",
   "metadata": {},
   "source": [
    "Convert the pandas dataframe back to the numpy array for conversion into the image."
   ]
  },
  {
   "cell_type": "code",
   "execution_count": 59,
   "metadata": {},
   "outputs": [],
   "source": [
    "compressed_img = compressed_img.values"
   ]
  },
  {
   "cell_type": "markdown",
   "metadata": {},
   "source": [
    "Reshape the numpy array into original format. "
   ]
  },
  {
   "cell_type": "code",
   "execution_count": 63,
   "metadata": {},
   "outputs": [],
   "source": [
    "compressed_img_reshaped = compressed_img.reshape(image.shape[0],image.shape[1],3)"
   ]
  },
  {
   "cell_type": "markdown",
   "metadata": {},
   "source": [
    "This is the compressed image data."
   ]
  },
  {
   "cell_type": "code",
   "execution_count": 64,
   "metadata": {},
   "outputs": [
    {
     "data": {
      "text/plain": [
       "array([[[203,  94,  79],\n",
       "        [203,  94,  79],\n",
       "        [203,  94,  79],\n",
       "        ...,\n",
       "        [226, 195, 108],\n",
       "        [226, 195, 108],\n",
       "        [124, 146,  48]],\n",
       "\n",
       "       [[203,  94,  79],\n",
       "        [203,  94,  79],\n",
       "        [203,  94,  79],\n",
       "        ...,\n",
       "        [226, 195, 108],\n",
       "        [226, 195, 108],\n",
       "        [124, 146,  48]],\n",
       "\n",
       "       [[203,  94,  79],\n",
       "        [203,  94,  79],\n",
       "        [203,  94,  79],\n",
       "        ...,\n",
       "        [226, 195, 108],\n",
       "        [124, 146,  48],\n",
       "        [124, 146,  48]],\n",
       "\n",
       "       ...,\n",
       "\n",
       "       [[124, 146,  48],\n",
       "        [124, 146,  48],\n",
       "        [124, 146,  48],\n",
       "        ...,\n",
       "        [226, 195, 108],\n",
       "        [226, 195, 108],\n",
       "        [226, 195, 108]],\n",
       "\n",
       "       [[124, 146,  48],\n",
       "        [124, 146,  48],\n",
       "        [124, 146,  48],\n",
       "        ...,\n",
       "        [173, 180, 226],\n",
       "        [173, 180, 226],\n",
       "        [173, 180, 226]],\n",
       "\n",
       "       [[124, 146,  48],\n",
       "        [124, 146,  48],\n",
       "        [124, 146,  48],\n",
       "        ...,\n",
       "        [173, 180, 226],\n",
       "        [173, 180, 226],\n",
       "        [173, 180, 226]]], dtype=int64)"
      ]
     },
     "execution_count": 64,
     "metadata": {},
     "output_type": "execute_result"
    }
   ],
   "source": [
    "compressed_img_reshaped"
   ]
  },
  {
   "cell_type": "markdown",
   "metadata": {},
   "source": [
    "Convert the numpy array back to the image. "
   ]
  },
  {
   "cell_type": "markdown",
   "metadata": {},
   "source": [
    "## This is the compressed image "
   ]
  },
  {
   "cell_type": "code",
   "execution_count": 66,
   "metadata": {},
   "outputs": [
    {
     "data": {
      "image/png": "[encoded data removed]",
      "text/plain": [
       "<PIL.Image.Image image mode=RGB size=128x128 at 0x1CDE3F90D68>"
      ]
     },
     "execution_count": 66,
     "metadata": {},
     "output_type": "execute_result"
    }
   ],
   "source": [
    "Image.fromarray(compressed_img_reshaped.astype(np.uint8))"
   ]
  },
  {
   "cell_type": "markdown",
   "metadata": {},
   "source": [
    "## The original image is shown below"
   ]
  },
  {
   "cell_type": "code",
   "execution_count": 69,
   "metadata": {},
   "outputs": [
    {
     "data": {
      "image/png": "[encoded data removed]",
      "text/plain": [
       "<PIL.TiffImagePlugin.TiffImageFile image mode=RGB size=128x128 at 0x1CDE3C4F860>"
      ]
     },
     "execution_count": 69,
     "metadata": {},
     "output_type": "execute_result"
    }
   ],
   "source": [
    "im"
   ]
  }
 ],
 "metadata": {
  "kernelspec": {
   "display_name": "Python 3",
   "language": "python",
   "name": "python3"
  },
  "language_info": {
   "codemirror_mode": {
    "name": "ipython",
    "version": 3
   },
   "file_extension": ".py",
   "mimetype": "text/x-python",
   "name": "python",
   "nbconvert_exporter": "python",
   "pygments_lexer": "ipython3",
   "version": "3.6.3"
  }
 },
 "nbformat": 4,
 "nbformat_minor": 2
}
